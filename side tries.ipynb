{
 "cells": [
  {
   "cell_type": "code",
   "execution_count": 23,
   "metadata": {},
   "outputs": [],
   "source": [
    "import pickle \n",
    "with open('LinearModel.pkl', 'rb') as model_file:\n",
    "    lr_model = pickle.load(model_file)\n",
    "with open('LogisticModel.pkl', 'rb') as model_file:#logistic reggression model\n",
    "    log_reg_model = pickle.load(model_file)\n",
    "with open('SVMmodel.pkl', 'rb') as model_file:#SVM model\n",
    "    svm_model = pickle.load(model_file)\n",
    "import numpy as np"
   ]
  },
  {
   "cell_type": "code",
   "execution_count": 4,
   "metadata": {},
   "outputs": [],
   "source": [
    "import streamlit as st\n",
    "import pickle \n",
    "from urllib.parse import urlparse\n",
    "import requests\n",
    "from bs4 import BeautifulSoup"
   ]
  },
  {
   "cell_type": "code",
   "execution_count": 5,
   "metadata": {},
   "outputs": [],
   "source": [
    "def url_length(url):\n",
    "    a = len(url)\n",
    "    return a\n",
    "def extract_domain(url):\n",
    "    parsed_url = urlparse(url)\n",
    "    domain = parsed_url.netloc\n",
    "    return domain\n",
    "def domain_length(domain):\n",
    "    a = len(domain)\n",
    "    return a \n",
    "def is_https(url):\n",
    "    if url[0:5]==\"https\":\n",
    "        return 1\n",
    "    else:\n",
    "        return 0\n",
    "def count_letters_in_url(url):\n",
    "    url_lower = url.lower()\n",
    "    num_letters = sum(c.isalpha() for c in url_lower)\n",
    "    return num_letters\n",
    "def count_digits_in_url(url):\n",
    "    num_digits = sum(c.isdigit() for c in url)\n",
    "    return num_digits\n",
    "def count_equals_in_url(url):\n",
    "    num_equals = url.count(\"=\")  \n",
    "    return num_equals\n",
    "def count_QMarks_in_url(url):\n",
    "    num_qmark = url.count(\"?\")\n",
    "    return num_qmark\n",
    "def count_ampersand_in_url(url):\n",
    "    num_ampersand = url.count(\"&\")\n",
    "    return num_ampersand\n",
    "def count_specialCharachters_in_url(url):\n",
    "    special_characters = \"!@#$%^&*()-_+=[]{}|;:,.<>?/~\"\n",
    "    num_special_chars = sum(1 for char in url if char in special_characters)   \n",
    "    return num_special_chars\n",
    "def count_css_files_in_url(url):\n",
    "    try:\n",
    "        response = requests.get(url)\n",
    "        response.raise_for_status()\n",
    "        soup = BeautifulSoup(response.content, 'html.parser')\n",
    "        css_links = soup.find_all('link', rel='stylesheet')\n",
    "        num_css_files = len(css_links)\n",
    "        return num_css_files\n",
    "    except Exception as e:\n",
    "        print(f\"Error fetching or parsing HTML content: {e}\")\n",
    "        return None\n",
    "def count_js_files_in_url(url):\n",
    "    try:\n",
    "        response = requests.get(url)\n",
    "        response.raise_for_status()\n",
    "        soup = BeautifulSoup(response.content, 'html.parser')\n",
    "        script_tags = soup.find_all('script')\n",
    "        external_js_files = [tag['src'] for tag in script_tags if 'src' in tag.attrs]\n",
    "        num_js_files = len(external_js_files)\n",
    "        return num_js_files\n",
    "    except Exception as e:\n",
    "        print(f\"Error fetching or parsing HTML content: {e}\")\n",
    "        return None\n",
    "def count_self_referencing_links(url):\n",
    "    try:\n",
    "        response = requests.get(url)\n",
    "        response.raise_for_status()\n",
    "        soup = BeautifulSoup(response.content, 'html.parser')\n",
    "        base_url = urlparse(url).scheme + \"://\" + urlparse(url).netloc\n",
    "        anchor_tags = soup.find_all('a', href=True)\n",
    "        num_self_refs = sum(1 for tag in anchor_tags if urlparse(tag['href']).netloc == '' or urlparse(tag['href']).netloc == urlparse(url).netloc)\n",
    "        \n",
    "        return num_self_refs\n",
    "    except Exception as e:\n",
    "        print(f\"Error fetching or parsing HTML content: {e}\")\n",
    "        return None\n",
    "def count_external_links(url):\n",
    "    try:\n",
    "        response = requests.get(url)\n",
    "        response.raise_for_status()\n",
    "        soup = BeautifulSoup(response.content, 'html.parser')\n",
    "        base_url = urlparse(url).scheme + \"://\" + urlparse(url).netloc\n",
    "        anchor_tags = soup.find_all('a', href=True)\n",
    "        num_external_links = sum(1 for tag in anchor_tags if urlparse(tag['href']).netloc != base_url)\n",
    "        return num_external_links\n",
    "    except Exception as e:\n",
    "        print(f\"Error fetching or parsing HTML content: {e}\")\n",
    "        return None\n",
    "def count_empty_references(url):\n",
    "    try:\n",
    "        response = requests.get(url)\n",
    "        response.raise_for_status()\n",
    "        soup = BeautifulSoup(response.content, 'html.parser')\n",
    "        empty_ref_tags = soup.find_all('a', href=False)\n",
    "        num_empty_refs = len(empty_ref_tags)\n",
    "        return num_empty_refs\n",
    "    except Exception as e:\n",
    "        print(f\"Error fetching or parsing HTML content: {e}\")\n",
    "        return None"
   ]
  },
  {
   "cell_type": "code",
   "execution_count": 63,
   "metadata": {},
   "outputs": [],
   "source": [
    "url = input(\"Enter the url\")\n",
    "a = url_length(url)\n",
    "b = extract_domain(url)\n",
    "c = domain_length(b)\n",
    "d = is_https(url)\n",
    "e = count_letters_in_url(url)\n",
    "f = count_digits_in_url(url)\n",
    "g = count_equals_in_url(url)\n",
    "h = count_QMarks_in_url(url)\n",
    "i = count_ampersand_in_url(url)\n",
    "j = count_specialCharachters_in_url(url)\n",
    "k = count_css_files_in_url(url)\n",
    "l = count_js_files_in_url(url)\n",
    "m = count_self_referencing_links(url)\n",
    "n = count_external_links(url)\n",
    "o = count_empty_references(url)"
   ]
  },
  {
   "cell_type": "code",
   "execution_count": 64,
   "metadata": {},
   "outputs": [],
   "source": [
    "inputs = [[a,c,e,f,g,h,i,j,d,k,l,m,o,n]]\n",
    "# predict = lr_model.predict(inputs)\n",
    "# predict1 = log_reg_model.predict(inputs)\n",
    "# predict2 = svm_model.predict(inputs)\n",
    "# print(predict)\n",
    "# print(predict2)\n",
    "# print(predict1)"
   ]
  },
  {
   "cell_type": "code",
   "execution_count": 65,
   "metadata": {},
   "outputs": [],
   "source": [
    "# def convert_to_binary(arr):\n",
    "#     return np.where(arr >= 0.8, 1, 0)\n",
    "\n",
    "# pp = convert_to_binary(predict)\n",
    "# avg = (pp + predict1+predict2)/3\n",
    "# print(avg)\n",
    "# print(pp)"
   ]
  },
  {
   "cell_type": "code",
   "execution_count": 67,
   "metadata": {},
   "outputs": [
    {
     "name": "stdout",
     "output_type": "stream",
     "text": [
      "Looks safe 👍👍👍\n",
      "[0]\n"
     ]
    },
    {
     "name": "stderr",
     "output_type": "stream",
     "text": [
      "c:\\Users\\Amey Rasekar\\anaconda3\\envs\\ml_env\\Lib\\site-packages\\sklearn\\base.py:464: UserWarning: X does not have valid feature names, but LogisticRegression was fitted with feature names\n",
      "  warnings.warn(\n"
     ]
    }
   ],
   "source": [
    "x = 1\n",
    "if x ==1:\n",
    "    try:\n",
    "        predict = log_reg_model.predict(inputs)\n",
    "        if predict == [1]:\n",
    "                print(\"Not a safe Site 💀💀💀\")\n",
    "        elif predict == [0]:\n",
    "                print(\"Looks safe 👍👍👍\")\n",
    "    except Exception as e:\n",
    "          print(f\"Scince error \\n{e} \\n we think the site is not safe 🚫🚫🚫\")\n",
    "\n",
    "\n",
    "print(predict)"
   ]
  },
  {
   "cell_type": "code",
   "execution_count": null,
   "metadata": {},
   "outputs": [],
   "source": []
  }
 ],
 "metadata": {
  "kernelspec": {
   "display_name": "ml_env",
   "language": "python",
   "name": "python3"
  },
  "language_info": {
   "codemirror_mode": {
    "name": "ipython",
    "version": 3
   },
   "file_extension": ".py",
   "mimetype": "text/x-python",
   "name": "python",
   "nbconvert_exporter": "python",
   "pygments_lexer": "ipython3",
   "version": "3.12.1"
  }
 },
 "nbformat": 4,
 "nbformat_minor": 2
}
